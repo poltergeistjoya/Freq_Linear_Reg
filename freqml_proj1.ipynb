{
  "nbformat": 4,
  "nbformat_minor": 0,
  "metadata": {
    "colab": {
      "provenance": [],
      "collapsed_sections": [],
      "include_colab_link": true
    },
    "kernelspec": {
      "name": "python3",
      "display_name": "Python 3"
    },
    "language_info": {
      "name": "python"
    }
  },
  "cells": [
    {
      "cell_type": "markdown",
      "metadata": {
        "id": "view-in-github",
        "colab_type": "text"
      },
      "source": [
        "<a href=\"https://colab.research.google.com/github/poltergeistjoya/Freq_Linear_Reg/blob/main/freqml_proj1.ipynb\" target=\"_parent\"><img src=\"https://colab.research.google.com/assets/colab-badge.svg\" alt=\"Open In Colab\"/></a>"
      ]
    },
    {
      "cell_type": "code",
      "execution_count": null,
      "metadata": {
        "id": "4P0Her69QewE",
        "colab": {
          "base_uri": "https://localhost:8080/"
        },
        "outputId": "a05fa1ab-2ecd-4057-ecaa-3b12176e228a"
      },
      "outputs": [
        {
          "output_type": "stream",
          "name": "stdout",
          "text": [
            "val_x [[  1.           1.99741771   3.719651    63.           1.61938824\n",
            "    1.           1.9095425    7.          40.        ]\n",
            " [  1.           1.78170913   3.451574    63.           0.43825493\n",
            "    0.           1.178655     7.          60.        ]\n",
            " [  1.           0.18232156   3.804438    65.           1.70474809\n",
            "    0.          -1.38629436   6.           0.        ]\n",
            " [  1.           2.12704052   4.121473    68.           1.76644166\n",
            "    0.           1.44691898   7.          40.        ]\n",
            " [  1.           1.22082992   3.568123    70.           1.37371558\n",
            "    0.          -0.7985077    6.           0.        ]\n",
            " [  1.           3.24649099   4.101817    68.          -1.38629436\n",
            "    0.          -1.38629436   6.           0.        ]\n",
            " [  1.           1.44220199   3.68261     68.          -1.38629436\n",
            "    0.          -1.38629436   7.          10.        ]\n",
            " [  1.           2.72785283   3.995445    79.           1.87946505\n",
            "    1.           2.65675691   9.         100.        ]\n",
            " [  1.          -0.4462871    4.408547    69.          -1.38629436\n",
            "    0.          -1.38629436   6.           0.        ]\n",
            " [  1.           0.3852624    3.6674      69.           1.59938758\n",
            "    0.          -1.38629436   6.           0.        ]] val_y [[2.8535925]\n",
            " [1.7137979]\n",
            " [2.008214 ]\n",
            " [2.6912431]\n",
            " [2.5915164]\n",
            " [4.029806 ]\n",
            " [2.3075726]\n",
            " [2.5687881]\n",
            " [2.9626924]\n",
            " [1.7316555]]\n"
          ]
        }
      ],
      "source": [
        "import numpy as np\n",
        "import matplotlib.pyplot as plt\n",
        "import pandas as pd \n",
        "from sklearn.preprocessing import StandardScaler\n",
        "from sklearn.model_selection import train_test_split\n",
        "\n",
        "# Organize and scale prostate cancer data \n",
        "\n",
        "# Read data in from the txt file\n",
        "df = pd.read_csv('prostatedata.txt', delimiter = \"\\t\")\n",
        "\n",
        "# Pad first column with 1's \n",
        "df.insert(0, 'intercept', 1)\n",
        "\n",
        "# Separate into inputs and outputs \n",
        "X_features = pd.DataFrame(df, columns = ['lcavol','lweight','age','lbph','svi','lcp','gleason','pgg45'])\n",
        "X = pd.DataFrame(df, columns = ['intercept', 'lcavol','lweight','age','lbph','svi','lcp','gleason','pgg45'])\n",
        "y = pd.DataFrame(df, columns = ['lpsa'])\n",
        "\n",
        "# Scale features -- standard scaling \n",
        "ss = StandardScaler()\n",
        "data_scaled = ss.fit_transform(X)\n",
        "\n",
        "# Split data into 80% train, 10% validate, 10% train \n",
        "train_x, rest_x, train_y, rest_y = train_test_split(X, y, test_size = 0.2) \n",
        "val_x, test_x, val_y, test_y = train_test_split(rest_x, rest_y, test_size = 0.5)\n",
        "\n",
        "# Convert to Numpy arrays\n",
        "train_x = train_x.to_numpy() \n",
        "test_x = test_x.to_numpy()\n",
        "train_y = train_y.to_numpy()\n",
        "test_y = test_y.to_numpy()\n",
        "val_x = val_x.to_numpy()\n",
        "val_y = val_y.to_numpy()\n",
        "print('val_x', val_x, 'val_y', val_y)"
      ]
    },
    {
      "cell_type": "code",
      "source": [
        "#Functions \n",
        "\n",
        "# Might combine all of them together for plain linear regression...\n",
        "\n",
        "# Find betas (weights)\n",
        "def train_data(X, y):\n",
        "  beta_hat = np.linalg.inv(X.T @ X) @ X.T @ y # eq 3.6\n",
        "  return beta_hat\n",
        "\n",
        "# Use betas to test data output \n",
        "def test_data(X, beta_hat): \n",
        "  y_hat = X @ beta_hat # eq 3.7\n",
        "  return y_hat\n",
        "\n",
        "# Get MSE (mean squared error)\n",
        "def get_MSE(y, y_hat):\n",
        "  diff_y = np.square(y-y_hat)\n",
        "  mse = (np.sum(diff_y))/len(y) \n",
        "  return mse \n",
        "\n",
        "# Estimate var_hat \n",
        "def est_var_hat(y, y_hat, X):\n",
        "  diff_y = np.square(y-y_hat)\n",
        "  var_hat = (np.sum(diff_y))/(len(y)-len(X[0]) - 1 - 1) # eq 3.8\n",
        "  return var_hat\n",
        "\n",
        "# Get standard errors\n",
        "def get_std_errors(var_hat, diag_vals): \n",
        "   std_errs = np.sqrt(var_hat) * np.sqrt(diag_vals) # eq 3.12\n",
        "   return std_errs\n",
        "\n",
        "# Get Z-scores \n",
        "def get_z_scores(beta_hat, std_errs):\n",
        "  z_scores = np.zeros(len(beta_hat))\n",
        "  for j in range(len(beta_hat)): # eq 3.12\n",
        "    z_scores[j] = beta_hat[j]/std_errs[j]\n",
        "    return z_scores"
      ],
      "metadata": {
        "id": "UJzWzOT1ZzTJ"
      },
      "execution_count": null,
      "outputs": []
    },
    {
      "cell_type": "markdown",
      "source": [
        "a) Plain old linear regression, with no regularization. You must code this one by hand (i.e use equation 3.6 to find the betas).  Report the mean squared error on the test dataset. Replicate tables 3.1 and 3.2. You will not need the validation set for this part of the assigment."
      ],
      "metadata": {
        "id": "G8zSMI0jbJDy"
      }
    },
    {
      "cell_type": "code",
      "source": [
        "#1) Linear regression \n",
        "\n",
        "beta_hat = train_data(train_x, train_y)\n",
        "y_hat = test_data(test_x, beta_hat)\n",
        "mse = get_MSE(test_y, y_hat)\n",
        "\n",
        "print(\"Mean squared error: \", mse)\n",
        "\n",
        "# Get correlation coefficients\n",
        "\n",
        "corr_coeffs = np.corrcoef(X_features.T); \n",
        "\n",
        "# Table 3.1 with correlations \n",
        "\n",
        "table1_data = {' ': ['lweight', 'age', 'lbph', 'svi', 'lcp', 'gleason', 'pgg45'],\\\n",
        "     'lcavol': [corr_coeffs[0,1], corr_coeffs[0,2], corr_coeffs[0,3], corr_coeffs[0,4], corr_coeffs[0,5], corr_coeffs[0,6], corr_coeffs[0,7]],\\\n",
        "     'lweight': [' ', corr_coeffs[1,2], corr_coeffs[1,3], corr_coeffs[1,4], corr_coeffs[1,5], corr_coeffs[1,6], corr_coeffs[1,7]],\\\n",
        "     'age': [' ', ' ', corr_coeffs[2,3], corr_coeffs[2,4], corr_coeffs[2,5], corr_coeffs[2,6], corr_coeffs[2,7]],\\\n",
        "     'lbph': [' ', ' ', ' ', corr_coeffs[3,4], corr_coeffs[3,5], corr_coeffs[3,6], corr_coeffs[3,7]],\\\n",
        "     'svi': [' ', ' ', ' ', ' ', corr_coeffs[4,5], corr_coeffs[4,6], corr_coeffs[4,7]],\\\n",
        "     'lcp': [' ', ' ', ' ', ' ', ' ', corr_coeffs[5,6], corr_coeffs[5,7]],\\\n",
        "     'gleason': [' ', ' ', ' ', ' ', ' ', ' ', corr_coeffs[6,7]]\\\n",
        "     }\n",
        "\n",
        "table1 = pd.DataFrame(data=table1_data)\n",
        "table1"
      ],
      "metadata": {
        "colab": {
          "base_uri": "https://localhost:8080/",
          "height": 287
        },
        "id": "MZcoe_1lH83h",
        "outputId": "ee8ef2a8-0960-4700-f64e-15525a77195b"
      },
      "execution_count": null,
      "outputs": [
        {
          "output_type": "stream",
          "name": "stdout",
          "text": [
            "Mean squared error:  0.22947679456325099\n"
          ]
        },
        {
          "output_type": "execute_result",
          "data": {
            "text/plain": [
              "              lcavol   lweight       age      lbph       svi       lcp  \\\n",
              "0  lweight  0.280521                                                     \n",
              "1      age  0.225000  0.347969                                           \n",
              "2     lbph  0.027350  0.442264  0.350186                                 \n",
              "3      svi  0.538845  0.155385  0.117658 -0.085843                       \n",
              "4      lcp  0.675310  0.164537  0.127668 -0.006999  0.673111             \n",
              "5  gleason  0.432417  0.056882  0.268892   0.07782  0.320412   0.51483   \n",
              "6    pgg45  0.433652  0.107354  0.276112   0.07846  0.457648  0.631528   \n",
              "\n",
              "    gleason  \n",
              "0            \n",
              "1            \n",
              "2            \n",
              "3            \n",
              "4            \n",
              "5            \n",
              "6  0.751905  "
            ],
            "text/html": [
              "\n",
              "  <div id=\"df-5f40bc52-21d4-4a41-8587-ff0a8208c16c\">\n",
              "    <div class=\"colab-df-container\">\n",
              "      <div>\n",
              "<style scoped>\n",
              "    .dataframe tbody tr th:only-of-type {\n",
              "        vertical-align: middle;\n",
              "    }\n",
              "\n",
              "    .dataframe tbody tr th {\n",
              "        vertical-align: top;\n",
              "    }\n",
              "\n",
              "    .dataframe thead th {\n",
              "        text-align: right;\n",
              "    }\n",
              "</style>\n",
              "<table border=\"1\" class=\"dataframe\">\n",
              "  <thead>\n",
              "    <tr style=\"text-align: right;\">\n",
              "      <th></th>\n",
              "      <th></th>\n",
              "      <th>lcavol</th>\n",
              "      <th>lweight</th>\n",
              "      <th>age</th>\n",
              "      <th>lbph</th>\n",
              "      <th>svi</th>\n",
              "      <th>lcp</th>\n",
              "      <th>gleason</th>\n",
              "    </tr>\n",
              "  </thead>\n",
              "  <tbody>\n",
              "    <tr>\n",
              "      <th>0</th>\n",
              "      <td>lweight</td>\n",
              "      <td>0.280521</td>\n",
              "      <td></td>\n",
              "      <td></td>\n",
              "      <td></td>\n",
              "      <td></td>\n",
              "      <td></td>\n",
              "      <td></td>\n",
              "    </tr>\n",
              "    <tr>\n",
              "      <th>1</th>\n",
              "      <td>age</td>\n",
              "      <td>0.225000</td>\n",
              "      <td>0.347969</td>\n",
              "      <td></td>\n",
              "      <td></td>\n",
              "      <td></td>\n",
              "      <td></td>\n",
              "      <td></td>\n",
              "    </tr>\n",
              "    <tr>\n",
              "      <th>2</th>\n",
              "      <td>lbph</td>\n",
              "      <td>0.027350</td>\n",
              "      <td>0.442264</td>\n",
              "      <td>0.350186</td>\n",
              "      <td></td>\n",
              "      <td></td>\n",
              "      <td></td>\n",
              "      <td></td>\n",
              "    </tr>\n",
              "    <tr>\n",
              "      <th>3</th>\n",
              "      <td>svi</td>\n",
              "      <td>0.538845</td>\n",
              "      <td>0.155385</td>\n",
              "      <td>0.117658</td>\n",
              "      <td>-0.085843</td>\n",
              "      <td></td>\n",
              "      <td></td>\n",
              "      <td></td>\n",
              "    </tr>\n",
              "    <tr>\n",
              "      <th>4</th>\n",
              "      <td>lcp</td>\n",
              "      <td>0.675310</td>\n",
              "      <td>0.164537</td>\n",
              "      <td>0.127668</td>\n",
              "      <td>-0.006999</td>\n",
              "      <td>0.673111</td>\n",
              "      <td></td>\n",
              "      <td></td>\n",
              "    </tr>\n",
              "    <tr>\n",
              "      <th>5</th>\n",
              "      <td>gleason</td>\n",
              "      <td>0.432417</td>\n",
              "      <td>0.056882</td>\n",
              "      <td>0.268892</td>\n",
              "      <td>0.07782</td>\n",
              "      <td>0.320412</td>\n",
              "      <td>0.51483</td>\n",
              "      <td></td>\n",
              "    </tr>\n",
              "    <tr>\n",
              "      <th>6</th>\n",
              "      <td>pgg45</td>\n",
              "      <td>0.433652</td>\n",
              "      <td>0.107354</td>\n",
              "      <td>0.276112</td>\n",
              "      <td>0.07846</td>\n",
              "      <td>0.457648</td>\n",
              "      <td>0.631528</td>\n",
              "      <td>0.751905</td>\n",
              "    </tr>\n",
              "  </tbody>\n",
              "</table>\n",
              "</div>\n",
              "      <button class=\"colab-df-convert\" onclick=\"convertToInteractive('df-5f40bc52-21d4-4a41-8587-ff0a8208c16c')\"\n",
              "              title=\"Convert this dataframe to an interactive table.\"\n",
              "              style=\"display:none;\">\n",
              "        \n",
              "  <svg xmlns=\"http://www.w3.org/2000/svg\" height=\"24px\"viewBox=\"0 0 24 24\"\n",
              "       width=\"24px\">\n",
              "    <path d=\"M0 0h24v24H0V0z\" fill=\"none\"/>\n",
              "    <path d=\"M18.56 5.44l.94 2.06.94-2.06 2.06-.94-2.06-.94-.94-2.06-.94 2.06-2.06.94zm-11 1L8.5 8.5l.94-2.06 2.06-.94-2.06-.94L8.5 2.5l-.94 2.06-2.06.94zm10 10l.94 2.06.94-2.06 2.06-.94-2.06-.94-.94-2.06-.94 2.06-2.06.94z\"/><path d=\"M17.41 7.96l-1.37-1.37c-.4-.4-.92-.59-1.43-.59-.52 0-1.04.2-1.43.59L10.3 9.45l-7.72 7.72c-.78.78-.78 2.05 0 2.83L4 21.41c.39.39.9.59 1.41.59.51 0 1.02-.2 1.41-.59l7.78-7.78 2.81-2.81c.8-.78.8-2.07 0-2.86zM5.41 20L4 18.59l7.72-7.72 1.47 1.35L5.41 20z\"/>\n",
              "  </svg>\n",
              "      </button>\n",
              "      \n",
              "  <style>\n",
              "    .colab-df-container {\n",
              "      display:flex;\n",
              "      flex-wrap:wrap;\n",
              "      gap: 12px;\n",
              "    }\n",
              "\n",
              "    .colab-df-convert {\n",
              "      background-color: #E8F0FE;\n",
              "      border: none;\n",
              "      border-radius: 50%;\n",
              "      cursor: pointer;\n",
              "      display: none;\n",
              "      fill: #1967D2;\n",
              "      height: 32px;\n",
              "      padding: 0 0 0 0;\n",
              "      width: 32px;\n",
              "    }\n",
              "\n",
              "    .colab-df-convert:hover {\n",
              "      background-color: #E2EBFA;\n",
              "      box-shadow: 0px 1px 2px rgba(60, 64, 67, 0.3), 0px 1px 3px 1px rgba(60, 64, 67, 0.15);\n",
              "      fill: #174EA6;\n",
              "    }\n",
              "\n",
              "    [theme=dark] .colab-df-convert {\n",
              "      background-color: #3B4455;\n",
              "      fill: #D2E3FC;\n",
              "    }\n",
              "\n",
              "    [theme=dark] .colab-df-convert:hover {\n",
              "      background-color: #434B5C;\n",
              "      box-shadow: 0px 1px 3px 1px rgba(0, 0, 0, 0.15);\n",
              "      filter: drop-shadow(0px 1px 2px rgba(0, 0, 0, 0.3));\n",
              "      fill: #FFFFFF;\n",
              "    }\n",
              "  </style>\n",
              "\n",
              "      <script>\n",
              "        const buttonEl =\n",
              "          document.querySelector('#df-5f40bc52-21d4-4a41-8587-ff0a8208c16c button.colab-df-convert');\n",
              "        buttonEl.style.display =\n",
              "          google.colab.kernel.accessAllowed ? 'block' : 'none';\n",
              "\n",
              "        async function convertToInteractive(key) {\n",
              "          const element = document.querySelector('#df-5f40bc52-21d4-4a41-8587-ff0a8208c16c');\n",
              "          const dataTable =\n",
              "            await google.colab.kernel.invokeFunction('convertToInteractive',\n",
              "                                                     [key], {});\n",
              "          if (!dataTable) return;\n",
              "\n",
              "          const docLinkHtml = 'Like what you see? Visit the ' +\n",
              "            '<a target=\"_blank\" href=https://colab.research.google.com/notebooks/data_table.ipynb>data table notebook</a>'\n",
              "            + ' to learn more about interactive tables.';\n",
              "          element.innerHTML = '';\n",
              "          dataTable['output_type'] = 'display_data';\n",
              "          await google.colab.output.renderOutput(dataTable, element);\n",
              "          const docLink = document.createElement('div');\n",
              "          docLink.innerHTML = docLinkHtml;\n",
              "          element.appendChild(docLink);\n",
              "        }\n",
              "      </script>\n",
              "    </div>\n",
              "  </div>\n",
              "  "
            ]
          },
          "metadata": {},
          "execution_count": 4
        }
      ]
    },
    {
      "cell_type": "code",
      "source": [
        "# Std errors and Z scores\n",
        "\n",
        "# do we use train or test for this? \n",
        "var_hat = est_var_hat(train_y, y_hat, train_x) \n",
        "diag_vals = np.diagonal(np.linalg.inv(train_x.T @ train_x))\n",
        "std_errs = get_std_errors(var_hat, diag_vals)\n",
        "z_scores = get_z_scores(beta_hat, std_errs) \n",
        "\n",
        "# Table 3.2 with beta_hat, std_errs, z_scores\n",
        "\n",
        "table2_data = {'Term': ['intercept', 'lcavol', 'lweight', 'age', 'lbph', 'svi', 'lcp', 'gleason', 'pgg45'],\\\n",
        "      'Coefficient': [beta_hat[0], beta_hat[1], beta_hat[2], beta_hat[3], beta_hat[4], beta_hat[5], beta_hat[6], beta_hat[7], beta_hat[8]],\\\n",
        "      'Std. Error': [std_errs[0], std_errs[1], std_errs[2], std_errs[3], std_errs[4], std_errs[5], std_errs[6], std_errs[7], std_errs[8]],\\\n",
        "      'Z Score': [z_scores[0], z_scores[1], z_scores[2], z_scores[3], z_scores[4], z_scores[5], z_scores[6], z_scores[7], z_scores[8]]\\\n",
        "     }\n",
        "\n",
        "table2 = pd.DataFrame(data=table2_data)\n",
        "table2"
      ],
      "metadata": {
        "colab": {
          "base_uri": "https://localhost:8080/",
          "height": 365
        },
        "id": "3pnTuossWqN_",
        "outputId": "b894ec79-d3a2-4aab-aa16-fd2af4b2cd7d"
      },
      "execution_count": null,
      "outputs": [
        {
          "output_type": "error",
          "ename": "ValueError",
          "evalue": "ignored",
          "traceback": [
            "\u001b[0;31m---------------------------------------------------------------------------\u001b[0m",
            "\u001b[0;31mValueError\u001b[0m                                Traceback (most recent call last)",
            "\u001b[0;32m<ipython-input-5-37aed49bb528>\u001b[0m in \u001b[0;36m<module>\u001b[0;34m\u001b[0m\n\u001b[1;32m      2\u001b[0m \u001b[0;34m\u001b[0m\u001b[0m\n\u001b[1;32m      3\u001b[0m \u001b[0;31m# do we use train or test for this?\u001b[0m\u001b[0;34m\u001b[0m\u001b[0;34m\u001b[0m\u001b[0;34m\u001b[0m\u001b[0m\n\u001b[0;32m----> 4\u001b[0;31m \u001b[0mvar_hat\u001b[0m \u001b[0;34m=\u001b[0m \u001b[0mest_var_hat\u001b[0m\u001b[0;34m(\u001b[0m\u001b[0mtrain_y\u001b[0m\u001b[0;34m,\u001b[0m \u001b[0my_hat\u001b[0m\u001b[0;34m,\u001b[0m \u001b[0mtrain_x\u001b[0m\u001b[0;34m)\u001b[0m\u001b[0;34m\u001b[0m\u001b[0;34m\u001b[0m\u001b[0m\n\u001b[0m\u001b[1;32m      5\u001b[0m \u001b[0mdiag_vals\u001b[0m \u001b[0;34m=\u001b[0m \u001b[0mnp\u001b[0m\u001b[0;34m.\u001b[0m\u001b[0mdiagonal\u001b[0m\u001b[0;34m(\u001b[0m\u001b[0mnp\u001b[0m\u001b[0;34m.\u001b[0m\u001b[0mlinalg\u001b[0m\u001b[0;34m.\u001b[0m\u001b[0minv\u001b[0m\u001b[0;34m(\u001b[0m\u001b[0mtrain_x\u001b[0m\u001b[0;34m.\u001b[0m\u001b[0mT\u001b[0m \u001b[0;34m@\u001b[0m \u001b[0mtrain_x\u001b[0m\u001b[0;34m)\u001b[0m\u001b[0;34m)\u001b[0m\u001b[0;34m\u001b[0m\u001b[0;34m\u001b[0m\u001b[0m\n\u001b[1;32m      6\u001b[0m \u001b[0mstd_errs\u001b[0m \u001b[0;34m=\u001b[0m \u001b[0mget_std_errors\u001b[0m\u001b[0;34m(\u001b[0m\u001b[0mvar_hat\u001b[0m\u001b[0;34m,\u001b[0m \u001b[0mdiag_vals\u001b[0m\u001b[0;34m)\u001b[0m\u001b[0;34m\u001b[0m\u001b[0;34m\u001b[0m\u001b[0m\n",
            "\u001b[0;32m<ipython-input-3-c1018a754c24>\u001b[0m in \u001b[0;36mest_var_hat\u001b[0;34m(y, y_hat, X)\u001b[0m\n\u001b[1;32m     21\u001b[0m \u001b[0;31m# Estimate var_hat\u001b[0m\u001b[0;34m\u001b[0m\u001b[0;34m\u001b[0m\u001b[0;34m\u001b[0m\u001b[0m\n\u001b[1;32m     22\u001b[0m \u001b[0;32mdef\u001b[0m \u001b[0mest_var_hat\u001b[0m\u001b[0;34m(\u001b[0m\u001b[0my\u001b[0m\u001b[0;34m,\u001b[0m \u001b[0my_hat\u001b[0m\u001b[0;34m,\u001b[0m \u001b[0mX\u001b[0m\u001b[0;34m)\u001b[0m\u001b[0;34m:\u001b[0m\u001b[0;34m\u001b[0m\u001b[0;34m\u001b[0m\u001b[0m\n\u001b[0;32m---> 23\u001b[0;31m   \u001b[0mdiff_y\u001b[0m \u001b[0;34m=\u001b[0m \u001b[0mnp\u001b[0m\u001b[0;34m.\u001b[0m\u001b[0msquare\u001b[0m\u001b[0;34m(\u001b[0m\u001b[0my\u001b[0m\u001b[0;34m-\u001b[0m\u001b[0my_hat\u001b[0m\u001b[0;34m)\u001b[0m\u001b[0;34m\u001b[0m\u001b[0;34m\u001b[0m\u001b[0m\n\u001b[0m\u001b[1;32m     24\u001b[0m   \u001b[0mvar_hat\u001b[0m \u001b[0;34m=\u001b[0m \u001b[0;34m(\u001b[0m\u001b[0mnp\u001b[0m\u001b[0;34m.\u001b[0m\u001b[0msum\u001b[0m\u001b[0;34m(\u001b[0m\u001b[0mdiff_y\u001b[0m\u001b[0;34m)\u001b[0m\u001b[0;34m)\u001b[0m\u001b[0;34m/\u001b[0m\u001b[0;34m(\u001b[0m\u001b[0mlen\u001b[0m\u001b[0;34m(\u001b[0m\u001b[0my\u001b[0m\u001b[0;34m)\u001b[0m\u001b[0;34m-\u001b[0m\u001b[0mlen\u001b[0m\u001b[0;34m(\u001b[0m\u001b[0mX\u001b[0m\u001b[0;34m[\u001b[0m\u001b[0;36m0\u001b[0m\u001b[0;34m]\u001b[0m\u001b[0;34m)\u001b[0m \u001b[0;34m-\u001b[0m \u001b[0;36m1\u001b[0m \u001b[0;34m-\u001b[0m \u001b[0;36m1\u001b[0m\u001b[0;34m)\u001b[0m \u001b[0;31m# eq 3.8\u001b[0m\u001b[0;34m\u001b[0m\u001b[0;34m\u001b[0m\u001b[0m\n\u001b[1;32m     25\u001b[0m   \u001b[0;32mreturn\u001b[0m \u001b[0mvar_hat\u001b[0m\u001b[0;34m\u001b[0m\u001b[0;34m\u001b[0m\u001b[0m\n",
            "\u001b[0;31mValueError\u001b[0m: operands could not be broadcast together with shapes (77,1) (10,1) "
          ]
        }
      ]
    },
    {
      "cell_type": "markdown",
      "source": [
        "Correlation stuff: https://numpy.org/doc/stable/reference/generated/numpy.corrcoef.html "
      ],
      "metadata": {
        "id": "_Vy3HXucTW2Y"
      }
    },
    {
      "cell_type": "code",
      "source": [
        "test_matrix = np.matrix([[1, 2, 3], [4, 5, 6], [7, 8, 9]])\n",
        "\n",
        "print(test_matrix) \n",
        "\n",
        "print(test_matrix[1])"
      ],
      "metadata": {
        "id": "42orW-EhOTtJ"
      },
      "execution_count": null,
      "outputs": []
    },
    {
      "cell_type": "markdown",
      "source": [
        "##Ridge Regression"
      ],
      "metadata": {
        "id": "d41nc5MXNuvs"
      }
    },
    {
      "cell_type": "markdown",
      "source": [
        "Beta and y_hat functions, MSE should be same as in plain linear regression"
      ],
      "metadata": {
        "id": "BQSoH52bN2Yv"
      }
    },
    {
      "cell_type": "code",
      "source": [
        "def get_b_ridge(X, lamb, y):\n",
        "  #I is the pxp identity matrix\n",
        "  #as lambda increases, b_hat gets smaller\n",
        "  b_hat_ridge = np.linalg.inv(X.T @ X + lamb * np.identity(X.shape[1])) @ X.T @ y # eq 3.44\n",
        "  #above func penalizes b_0 in identity, but we get b_0 (y-int) like so\n",
        "  b_0 = np.mean(y) #pg 64\n",
        "  return b_0, b_hat_ridge\n",
        "\n",
        "def get_y_hat_ridge(b_0, b_hat_ridge, X):\n",
        "  y_hat_ridge = b_0 + X @ b_hat_ridge\n",
        "  return y_hat_ridge\n"
      ],
      "metadata": {
        "id": "B7fQSmOUNnY-"
      },
      "execution_count": null,
      "outputs": []
    },
    {
      "cell_type": "code",
      "source": [
        "n_ridge =1000\n",
        "# lambs = np.linspace(0,50000000000000000000000000,n_ridge)\n",
        "lambs = np.linspace(0.0001, 5, n_ridge )\n",
        "b_hats = np.zeros((n_ridge,8))\n",
        "error = []\n",
        "#will sweep lambda to find the optimal value that fits data purrfectly,,, how to vectorize?\n",
        "for i, lamb in enumerate(lambs):\n",
        "    b_0, b_hat_ridge = get_b_ridge(train_x[:, 1:], lamb, train_y)\n",
        "    b_hats[i,:] = b_hat_ridge.T\n",
        "    #print(b_hats, np.shape(b_hats))\n",
        "    y_hat_ridge = get_y_hat_ridge(b_0, b_hat_ridge, val_x[:, 1:])\n",
        "    mse = get_MSE(val_y, y_hat_ridge)\n",
        "    error.append(mse)\n",
        "\n",
        "min_mse = min(error)\n",
        "min_mse_ind = error.index(min_mse)\n",
        "op_lamb = lambs[min_mse_ind]\n",
        "print(min_mse, op_lamb)\n",
        "\n",
        "#print(error)"
      ],
      "metadata": {
        "id": "98HhDpEHOFTP",
        "colab": {
          "base_uri": "https://localhost:8080/"
        },
        "outputId": "d5df45d9-81bb-4199-84a6-8060976ea1bc"
      },
      "execution_count": 142,
      "outputs": [
        {
          "output_type": "stream",
          "name": "stdout",
          "text": [
            "5.236685482600758 3.5285579579579585\n"
          ]
        }
      ]
    },
    {
      "cell_type": "code",
      "source": [
        "#Plot a ridge plot similar to figure 3.8, but you can just sweep the lambda parameter (you don't have to scale it to degrees of freedom).\n",
        "fig, ax = plt.subplots(1,1)\n",
        "for i in range (0,8):\n",
        "  ax.plot(lambs, b_hats[:,i])\n",
        "ax.legend(['lcavol', 'lweight', 'age', 'lbph', 'svi', 'lcp', 'gleason', 'pgg45'])\n",
        "ax.axvline(np.log(op_lamb), ls = \"--\")\n",
        "ax.set_xlabel('Lambda')\n",
        "ax.set_ylabel('Coefficients')\n",
        "ax.set_title('Ridge Regression Coefficients')\n",
        "plt.show()"
      ],
      "metadata": {
        "id": "RCU3n5qnO_yg",
        "colab": {
          "base_uri": "https://localhost:8080/",
          "height": 295
        },
        "outputId": "02836baf-bd68-426b-e384-1832a2022f7d"
      },
      "execution_count": 143,
      "outputs": [
        {
          "output_type": "display_data",
          "data": {
            "text/plain": [
              "<Figure size 432x288 with 1 Axes>"
            ],
            "image/png": "[encoded data removed]"
          },
          "metadata": {
            "needs_background": "light"
          }
        }
      ]
    }
  ]
}